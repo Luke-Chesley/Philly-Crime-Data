{
  "nbformat": 4,
  "nbformat_minor": 0,
  "metadata": {
    "colab": {
      "provenance": [],
      "collapsed_sections": [],
      "authorship_tag": "ABX9TyOka1rNmtk/9HT1VNT1bJus",
      "include_colab_link": true
    },
    "kernelspec": {
      "name": "python3",
      "display_name": "Python 3"
    },
    "language_info": {
      "name": "python"
    }
  },
  "cells": [
    {
      "cell_type": "markdown",
      "metadata": {
        "id": "view-in-github",
        "colab_type": "text"
      },
      "source": [
        "<a href=\"https://colab.research.google.com/github/Luke-Chesley/Philly-Crime-Data/blob/main/Philly_Crime_Data.ipynb\" target=\"_parent\"><img src=\"https://colab.research.google.com/assets/colab-badge.svg\" alt=\"Open In Colab\"/></a>"
      ]
    },
    {
      "cell_type": "markdown",
      "source": [
        "# Importing Libraries"
      ],
      "metadata": {
        "id": "Tyojcd86JwCg"
      }
    },
    {
      "cell_type": "code",
      "source": [
        "!pip install --upgrade matplotlib"
      ],
      "metadata": {
        "id": "f4Dx-V63FwuV",
        "outputId": "357eb1c2-eb52-4596-f850-40da75e5a8b8",
        "colab": {
          "base_uri": "https://localhost:8080/",
          "height": 503
        }
      },
      "execution_count": 23,
      "outputs": [
        {
          "output_type": "stream",
          "name": "stdout",
          "text": [
            "Looking in indexes: https://pypi.org/simple, https://us-python.pkg.dev/colab-wheels/public/simple/\n",
            "Requirement already satisfied: matplotlib in /usr/local/lib/python3.7/dist-packages (3.2.2)\n",
            "Collecting matplotlib\n",
            "  Downloading matplotlib-3.5.3-cp37-cp37m-manylinux_2_5_x86_64.manylinux1_x86_64.whl (11.2 MB)\n",
            "\u001b[K     |████████████████████████████████| 11.2 MB 15.9 MB/s \n",
            "\u001b[?25hCollecting fonttools>=4.22.0\n",
            "  Downloading fonttools-4.37.4-py3-none-any.whl (960 kB)\n",
            "\u001b[K     |████████████████████████████████| 960 kB 61.1 MB/s \n",
            "\u001b[?25hRequirement already satisfied: python-dateutil>=2.7 in /usr/local/lib/python3.7/dist-packages (from matplotlib) (2.8.2)\n",
            "Requirement already satisfied: packaging>=20.0 in /usr/local/lib/python3.7/dist-packages (from matplotlib) (21.3)\n",
            "Requirement already satisfied: pillow>=6.2.0 in /usr/local/lib/python3.7/dist-packages (from matplotlib) (7.1.2)\n",
            "Requirement already satisfied: kiwisolver>=1.0.1 in /usr/local/lib/python3.7/dist-packages (from matplotlib) (1.4.4)\n",
            "Requirement already satisfied: pyparsing>=2.2.1 in /usr/local/lib/python3.7/dist-packages (from matplotlib) (3.0.9)\n",
            "Requirement already satisfied: cycler>=0.10 in /usr/local/lib/python3.7/dist-packages (from matplotlib) (0.11.0)\n",
            "Requirement already satisfied: numpy>=1.17 in /usr/local/lib/python3.7/dist-packages (from matplotlib) (1.21.6)\n",
            "Requirement already satisfied: typing-extensions in /usr/local/lib/python3.7/dist-packages (from kiwisolver>=1.0.1->matplotlib) (4.1.1)\n",
            "Requirement already satisfied: six>=1.5 in /usr/local/lib/python3.7/dist-packages (from python-dateutil>=2.7->matplotlib) (1.15.0)\n",
            "Installing collected packages: fonttools, matplotlib\n",
            "  Attempting uninstall: matplotlib\n",
            "    Found existing installation: matplotlib 3.2.2\n",
            "    Uninstalling matplotlib-3.2.2:\n",
            "      Successfully uninstalled matplotlib-3.2.2\n",
            "Successfully installed fonttools-4.37.4 matplotlib-3.5.3\n"
          ]
        },
        {
          "output_type": "display_data",
          "data": {
            "application/vnd.colab-display-data+json": {
              "pip_warning": {
                "packages": [
                  "matplotlib",
                  "mpl_toolkits"
                ]
              }
            }
          },
          "metadata": {}
        }
      ]
    },
    {
      "cell_type": "code",
      "execution_count": 1,
      "metadata": {
        "id": "aD9dYI2ed9Wa"
      },
      "outputs": [],
      "source": [
        "import pandas as pd\n",
        "import numpy as np\n",
        "import matplotlib.pyplot as plt\n"
      ]
    },
    {
      "cell_type": "markdown",
      "source": [
        "# Importing data"
      ],
      "metadata": {
        "id": "clprfOrAJzgv"
      }
    },
    {
      "cell_type": "code",
      "source": [
        "df = pd.read_csv('https://phl.carto.com/api/v2/sql?filename=incidents_part1_part2&format=csv&q=SELECT%20*%20,%20ST_Y(the_geom)%20AS%20lat,%20ST_X(the_geom)%20AS%20lng%20FROM%20incidents_part1_part2%20WHERE%20dispatch_date_time%20%3E=%20%272022-01-01%27%20AND%20dispatch_date_time%20%3C%20%272023-01-01%27')\n",
        "df = df.drop(labels=['the_geom','the_geom_webmercator','dc_key','point_x', 'point_y', 'dispatch_date_time', 'cartodb_id', 'psa'], axis=1)"
      ],
      "metadata": {
        "id": "XvC4KLlseRjK"
      },
      "execution_count": 2,
      "outputs": []
    },
    {
      "cell_type": "code",
      "source": [
        "df"
      ],
      "metadata": {
        "colab": {
          "base_uri": "https://localhost:8080/",
          "height": 424
        },
        "id": "cve1DOdrpInw",
        "outputId": "5b8b7e19-a594-439c-e14b-2a473a7e38d0"
      },
      "execution_count": 3,
      "outputs": [
        {
          "output_type": "execute_result",
          "data": {
            "text/plain": [
              "        objectid  dc_dist dispatch_date dispatch_time  hour_  \\\n",
              "0        2858559       77    2022-05-17      20:08:00   20.0   \n",
              "1        2858560       77    2022-01-20      13:58:00   13.0   \n",
              "2        2858561       77    2022-02-19      13:24:00   13.0   \n",
              "3        2858562       77    2022-03-24      06:12:00    6.0   \n",
              "4        2858563       77    2022-03-24      06:12:00    6.0   \n",
              "...          ...      ...           ...           ...    ...   \n",
              "115986   4644836       18    2022-10-06      22:19:00   22.0   \n",
              "115987   3363266       15    2022-08-25      17:25:00   17.0   \n",
              "115988   3398318       39    2022-08-26      16:50:00   16.0   \n",
              "115989   4401184       24    2022-09-27      09:24:00    9.0   \n",
              "115990   4644887       26    2022-10-06      10:06:00   10.0   \n",
              "\n",
              "                         location_block  ucr_general  \\\n",
              "0            PIA TERMINAL @ 98 PIA WAY           600   \n",
              "1            PIA TERMINAL @ 98 PIA WAY           600   \n",
              "2            PIA TERMINAL @ 98 PIA WAY           600   \n",
              "3            PIA TERMINAL @ 98 PIA WAY           600   \n",
              "4            PIA TERMINAL @ 98 PIA WAY           600   \n",
              "...                                 ...          ...   \n",
              "115986           3100 BLOCK CHESTNUT ST          700   \n",
              "115987          4600 BLOCK FRANKFORD AV         1800   \n",
              "115988            300 BLOCK EARLHAM TER         2600   \n",
              "115989  KENSINGTON AV & E ALLEGHENY AV           600   \n",
              "115990        1600 BLOCK CADWALLADER ST          700   \n",
              "\n",
              "                     text_general_code        lat        lng  \n",
              "0                               Thefts        NaN        NaN  \n",
              "1                               Thefts        NaN        NaN  \n",
              "2                   Theft from Vehicle        NaN        NaN  \n",
              "3                               Thefts        NaN        NaN  \n",
              "4                               Thefts        NaN        NaN  \n",
              "...                                ...        ...        ...  \n",
              "115986             Motor Vehicle Theft  39.953517 -75.185333  \n",
              "115987  Narcotic / Drug Law Violations  40.014989 -75.085695  \n",
              "115988              All Other Offenses  40.027408 -75.176833  \n",
              "115989                          Thefts  39.996526 -75.113358  \n",
              "115990             Motor Vehicle Theft  39.976039 -75.141293  \n",
              "\n",
              "[115991 rows x 10 columns]"
            ],
            "text/html": [
              "\n",
              "  <div id=\"df-157fb2f7-e3d0-44e9-92ba-17f99e2bd7e1\">\n",
              "    <div class=\"colab-df-container\">\n",
              "      <div>\n",
              "<style scoped>\n",
              "    .dataframe tbody tr th:only-of-type {\n",
              "        vertical-align: middle;\n",
              "    }\n",
              "\n",
              "    .dataframe tbody tr th {\n",
              "        vertical-align: top;\n",
              "    }\n",
              "\n",
              "    .dataframe thead th {\n",
              "        text-align: right;\n",
              "    }\n",
              "</style>\n",
              "<table border=\"1\" class=\"dataframe\">\n",
              "  <thead>\n",
              "    <tr style=\"text-align: right;\">\n",
              "      <th></th>\n",
              "      <th>objectid</th>\n",
              "      <th>dc_dist</th>\n",
              "      <th>dispatch_date</th>\n",
              "      <th>dispatch_time</th>\n",
              "      <th>hour_</th>\n",
              "      <th>location_block</th>\n",
              "      <th>ucr_general</th>\n",
              "      <th>text_general_code</th>\n",
              "      <th>lat</th>\n",
              "      <th>lng</th>\n",
              "    </tr>\n",
              "  </thead>\n",
              "  <tbody>\n",
              "    <tr>\n",
              "      <th>0</th>\n",
              "      <td>2858559</td>\n",
              "      <td>77</td>\n",
              "      <td>2022-05-17</td>\n",
              "      <td>20:08:00</td>\n",
              "      <td>20.0</td>\n",
              "      <td>PIA TERMINAL @ 98 PIA WAY</td>\n",
              "      <td>600</td>\n",
              "      <td>Thefts</td>\n",
              "      <td>NaN</td>\n",
              "      <td>NaN</td>\n",
              "    </tr>\n",
              "    <tr>\n",
              "      <th>1</th>\n",
              "      <td>2858560</td>\n",
              "      <td>77</td>\n",
              "      <td>2022-01-20</td>\n",
              "      <td>13:58:00</td>\n",
              "      <td>13.0</td>\n",
              "      <td>PIA TERMINAL @ 98 PIA WAY</td>\n",
              "      <td>600</td>\n",
              "      <td>Thefts</td>\n",
              "      <td>NaN</td>\n",
              "      <td>NaN</td>\n",
              "    </tr>\n",
              "    <tr>\n",
              "      <th>2</th>\n",
              "      <td>2858561</td>\n",
              "      <td>77</td>\n",
              "      <td>2022-02-19</td>\n",
              "      <td>13:24:00</td>\n",
              "      <td>13.0</td>\n",
              "      <td>PIA TERMINAL @ 98 PIA WAY</td>\n",
              "      <td>600</td>\n",
              "      <td>Theft from Vehicle</td>\n",
              "      <td>NaN</td>\n",
              "      <td>NaN</td>\n",
              "    </tr>\n",
              "    <tr>\n",
              "      <th>3</th>\n",
              "      <td>2858562</td>\n",
              "      <td>77</td>\n",
              "      <td>2022-03-24</td>\n",
              "      <td>06:12:00</td>\n",
              "      <td>6.0</td>\n",
              "      <td>PIA TERMINAL @ 98 PIA WAY</td>\n",
              "      <td>600</td>\n",
              "      <td>Thefts</td>\n",
              "      <td>NaN</td>\n",
              "      <td>NaN</td>\n",
              "    </tr>\n",
              "    <tr>\n",
              "      <th>4</th>\n",
              "      <td>2858563</td>\n",
              "      <td>77</td>\n",
              "      <td>2022-03-24</td>\n",
              "      <td>06:12:00</td>\n",
              "      <td>6.0</td>\n",
              "      <td>PIA TERMINAL @ 98 PIA WAY</td>\n",
              "      <td>600</td>\n",
              "      <td>Thefts</td>\n",
              "      <td>NaN</td>\n",
              "      <td>NaN</td>\n",
              "    </tr>\n",
              "    <tr>\n",
              "      <th>...</th>\n",
              "      <td>...</td>\n",
              "      <td>...</td>\n",
              "      <td>...</td>\n",
              "      <td>...</td>\n",
              "      <td>...</td>\n",
              "      <td>...</td>\n",
              "      <td>...</td>\n",
              "      <td>...</td>\n",
              "      <td>...</td>\n",
              "      <td>...</td>\n",
              "    </tr>\n",
              "    <tr>\n",
              "      <th>115986</th>\n",
              "      <td>4644836</td>\n",
              "      <td>18</td>\n",
              "      <td>2022-10-06</td>\n",
              "      <td>22:19:00</td>\n",
              "      <td>22.0</td>\n",
              "      <td>3100 BLOCK CHESTNUT ST</td>\n",
              "      <td>700</td>\n",
              "      <td>Motor Vehicle Theft</td>\n",
              "      <td>39.953517</td>\n",
              "      <td>-75.185333</td>\n",
              "    </tr>\n",
              "    <tr>\n",
              "      <th>115987</th>\n",
              "      <td>3363266</td>\n",
              "      <td>15</td>\n",
              "      <td>2022-08-25</td>\n",
              "      <td>17:25:00</td>\n",
              "      <td>17.0</td>\n",
              "      <td>4600 BLOCK FRANKFORD AV</td>\n",
              "      <td>1800</td>\n",
              "      <td>Narcotic / Drug Law Violations</td>\n",
              "      <td>40.014989</td>\n",
              "      <td>-75.085695</td>\n",
              "    </tr>\n",
              "    <tr>\n",
              "      <th>115988</th>\n",
              "      <td>3398318</td>\n",
              "      <td>39</td>\n",
              "      <td>2022-08-26</td>\n",
              "      <td>16:50:00</td>\n",
              "      <td>16.0</td>\n",
              "      <td>300 BLOCK EARLHAM TER</td>\n",
              "      <td>2600</td>\n",
              "      <td>All Other Offenses</td>\n",
              "      <td>40.027408</td>\n",
              "      <td>-75.176833</td>\n",
              "    </tr>\n",
              "    <tr>\n",
              "      <th>115989</th>\n",
              "      <td>4401184</td>\n",
              "      <td>24</td>\n",
              "      <td>2022-09-27</td>\n",
              "      <td>09:24:00</td>\n",
              "      <td>9.0</td>\n",
              "      <td>KENSINGTON AV &amp; E ALLEGHENY AV</td>\n",
              "      <td>600</td>\n",
              "      <td>Thefts</td>\n",
              "      <td>39.996526</td>\n",
              "      <td>-75.113358</td>\n",
              "    </tr>\n",
              "    <tr>\n",
              "      <th>115990</th>\n",
              "      <td>4644887</td>\n",
              "      <td>26</td>\n",
              "      <td>2022-10-06</td>\n",
              "      <td>10:06:00</td>\n",
              "      <td>10.0</td>\n",
              "      <td>1600 BLOCK CADWALLADER ST</td>\n",
              "      <td>700</td>\n",
              "      <td>Motor Vehicle Theft</td>\n",
              "      <td>39.976039</td>\n",
              "      <td>-75.141293</td>\n",
              "    </tr>\n",
              "  </tbody>\n",
              "</table>\n",
              "<p>115991 rows × 10 columns</p>\n",
              "</div>\n",
              "      <button class=\"colab-df-convert\" onclick=\"convertToInteractive('df-157fb2f7-e3d0-44e9-92ba-17f99e2bd7e1')\"\n",
              "              title=\"Convert this dataframe to an interactive table.\"\n",
              "              style=\"display:none;\">\n",
              "        \n",
              "  <svg xmlns=\"http://www.w3.org/2000/svg\" height=\"24px\"viewBox=\"0 0 24 24\"\n",
              "       width=\"24px\">\n",
              "    <path d=\"M0 0h24v24H0V0z\" fill=\"none\"/>\n",
              "    <path d=\"M18.56 5.44l.94 2.06.94-2.06 2.06-.94-2.06-.94-.94-2.06-.94 2.06-2.06.94zm-11 1L8.5 8.5l.94-2.06 2.06-.94-2.06-.94L8.5 2.5l-.94 2.06-2.06.94zm10 10l.94 2.06.94-2.06 2.06-.94-2.06-.94-.94-2.06-.94 2.06-2.06.94z\"/><path d=\"M17.41 7.96l-1.37-1.37c-.4-.4-.92-.59-1.43-.59-.52 0-1.04.2-1.43.59L10.3 9.45l-7.72 7.72c-.78.78-.78 2.05 0 2.83L4 21.41c.39.39.9.59 1.41.59.51 0 1.02-.2 1.41-.59l7.78-7.78 2.81-2.81c.8-.78.8-2.07 0-2.86zM5.41 20L4 18.59l7.72-7.72 1.47 1.35L5.41 20z\"/>\n",
              "  </svg>\n",
              "      </button>\n",
              "      \n",
              "  <style>\n",
              "    .colab-df-container {\n",
              "      display:flex;\n",
              "      flex-wrap:wrap;\n",
              "      gap: 12px;\n",
              "    }\n",
              "\n",
              "    .colab-df-convert {\n",
              "      background-color: #E8F0FE;\n",
              "      border: none;\n",
              "      border-radius: 50%;\n",
              "      cursor: pointer;\n",
              "      display: none;\n",
              "      fill: #1967D2;\n",
              "      height: 32px;\n",
              "      padding: 0 0 0 0;\n",
              "      width: 32px;\n",
              "    }\n",
              "\n",
              "    .colab-df-convert:hover {\n",
              "      background-color: #E2EBFA;\n",
              "      box-shadow: 0px 1px 2px rgba(60, 64, 67, 0.3), 0px 1px 3px 1px rgba(60, 64, 67, 0.15);\n",
              "      fill: #174EA6;\n",
              "    }\n",
              "\n",
              "    [theme=dark] .colab-df-convert {\n",
              "      background-color: #3B4455;\n",
              "      fill: #D2E3FC;\n",
              "    }\n",
              "\n",
              "    [theme=dark] .colab-df-convert:hover {\n",
              "      background-color: #434B5C;\n",
              "      box-shadow: 0px 1px 3px 1px rgba(0, 0, 0, 0.15);\n",
              "      filter: drop-shadow(0px 1px 2px rgba(0, 0, 0, 0.3));\n",
              "      fill: #FFFFFF;\n",
              "    }\n",
              "  </style>\n",
              "\n",
              "      <script>\n",
              "        const buttonEl =\n",
              "          document.querySelector('#df-157fb2f7-e3d0-44e9-92ba-17f99e2bd7e1 button.colab-df-convert');\n",
              "        buttonEl.style.display =\n",
              "          google.colab.kernel.accessAllowed ? 'block' : 'none';\n",
              "\n",
              "        async function convertToInteractive(key) {\n",
              "          const element = document.querySelector('#df-157fb2f7-e3d0-44e9-92ba-17f99e2bd7e1');\n",
              "          const dataTable =\n",
              "            await google.colab.kernel.invokeFunction('convertToInteractive',\n",
              "                                                     [key], {});\n",
              "          if (!dataTable) return;\n",
              "\n",
              "          const docLinkHtml = 'Like what you see? Visit the ' +\n",
              "            '<a target=\"_blank\" href=https://colab.research.google.com/notebooks/data_table.ipynb>data table notebook</a>'\n",
              "            + ' to learn more about interactive tables.';\n",
              "          element.innerHTML = '';\n",
              "          dataTable['output_type'] = 'display_data';\n",
              "          await google.colab.output.renderOutput(dataTable, element);\n",
              "          const docLink = document.createElement('div');\n",
              "          docLink.innerHTML = docLinkHtml;\n",
              "          element.appendChild(docLink);\n",
              "        }\n",
              "      </script>\n",
              "    </div>\n",
              "  </div>\n",
              "  "
            ]
          },
          "metadata": {},
          "execution_count": 3
        }
      ]
    },
    {
      "cell_type": "code",
      "source": [
        "df.loc[df['ucr_general'] == 600]['text_general_code'] .unique()"
      ],
      "metadata": {
        "colab": {
          "base_uri": "https://localhost:8080/"
        },
        "id": "ocbpc1wOyFJg",
        "outputId": "f95d75e4-d858-47f1-d803-cd88aa155c32"
      },
      "execution_count": 4,
      "outputs": [
        {
          "output_type": "execute_result",
          "data": {
            "text/plain": [
              "array(['Thefts', 'Theft from Vehicle'], dtype=object)"
            ]
          },
          "metadata": {},
          "execution_count": 4
        }
      ]
    },
    {
      "cell_type": "code",
      "source": [
        "df['text_general_code'].unique()"
      ],
      "metadata": {
        "colab": {
          "base_uri": "https://localhost:8080/"
        },
        "id": "GglDa8NXebwp",
        "outputId": "88978d27-ca1b-4e6f-a642-74b1e2a4d831"
      },
      "execution_count": 5,
      "outputs": [
        {
          "output_type": "execute_result",
          "data": {
            "text/plain": [
              "array(['Thefts', 'Theft from Vehicle', 'Aggravated Assault Firearm',\n",
              "       'Aggravated Assault No Firearm', 'Robbery No Firearm',\n",
              "       'Robbery Firearm', 'Burglary Non-Residential', 'Rape',\n",
              "       'Burglary Residential', 'Narcotic / Drug Law Violations',\n",
              "       'Weapon Violations', 'Disorderly Conduct', 'Other Assaults',\n",
              "       'Vandalism/Criminal Mischief', 'Receiving Stolen Property',\n",
              "       'Arson', 'Homicide - Criminal', 'All Other Offenses',\n",
              "       'Other Sex Offenses (Not Commercialized)',\n",
              "       'Forgery and Counterfeiting', 'Fraud',\n",
              "       'Offenses Against Family and Children', 'Embezzlement',\n",
              "       'Prostitution and Commercialized Vice',\n",
              "       'DRIVING UNDER THE INFLUENCE', 'Public Drunkenness',\n",
              "       'Gambling Violations', 'Liquor Law Violations',\n",
              "       'Vagrancy/Loitering', 'Motor Vehicle Theft',\n",
              "       'Homicide - Criminal '], dtype=object)"
            ]
          },
          "metadata": {},
          "execution_count": 5
        }
      ]
    },
    {
      "cell_type": "code",
      "source": [
        "df['ucr_general'].unique()"
      ],
      "metadata": {
        "colab": {
          "base_uri": "https://localhost:8080/"
        },
        "id": "qWdmJpTZrgkN",
        "outputId": "4f9703fc-3f4e-451d-cc9c-ee00d2f11b52"
      },
      "execution_count": 6,
      "outputs": [
        {
          "output_type": "execute_result",
          "data": {
            "text/plain": [
              "array([ 600,  400,  300,  500,  200, 1800, 1500, 2400,  800, 1400, 1300,\n",
              "        900,  100, 2600, 1700, 1000, 1100, 2000, 1200, 1600, 2100, 2300,\n",
              "       1900, 2200, 2500,  700])"
            ]
          },
          "metadata": {},
          "execution_count": 6
        }
      ]
    },
    {
      "cell_type": "markdown",
      "source": [
        "# Homicides by police district"
      ],
      "metadata": {
        "id": "_C57FMgzzmvv"
      }
    },
    {
      "cell_type": "code",
      "source": [
        "homicide_district_counts = df.loc[df['text_general_code'] == 'Homicide - Criminal']['dc_dist'].value_counts().to_frame().sort_index()"
      ],
      "metadata": {
        "id": "-YGZMBrH2IgZ"
      },
      "execution_count": 32,
      "outputs": []
    },
    {
      "cell_type": "code",
      "source": [
        "homicide_district_counts_x = [str(x) for x in sorted(homicide_district_counts.index.to_list())]"
      ],
      "metadata": {
        "id": "bjZjgBTL3Jy7"
      },
      "execution_count": 34,
      "outputs": []
    },
    {
      "cell_type": "code",
      "source": [
        "fig, ax = plt.subplots(figsize=(16,12))\n",
        "plt.rc('font', size=16)          # controls default text sizes\n",
        "plt.rc('axes', labelsize=16)    # fontsize of the x and y labels\n",
        "\n",
        "\n",
        "\n",
        "p1 = ax.bar(x = homicide_district_counts_x,\n",
        "        height = homicide_district_counts['dc_dist'],\n",
        "        data=homicide_district_counts)\n",
        "\n",
        "ax.set_ylabel('Number of Homicides')\n",
        "ax.set_xlabel('Police District')\n",
        "ax.set_title('Number Of Homicides In Each Police District')\n",
        "\n",
        "ax.bar_label(p1, label_type='edge')\n",
        "\n",
        "plt.show()\n"
      ],
      "metadata": {
        "colab": {
          "base_uri": "https://localhost:8080/",
          "height": 743
        },
        "id": "_pvrNPLRrYGb",
        "outputId": "928f321b-b69b-43a0-ef3a-0be43b642a47"
      },
      "execution_count": 59,
      "outputs": [
        {
          "output_type": "display_data",
          "data": {
            "text/plain": [
              "<Figure size 1152x864 with 1 Axes>"
            ],
            "image/png": "[encoded data removed]"
          },
          "metadata": {
            "needs_background": "light"
          }
        }
      ]
    },
    {
      "cell_type": "markdown",
      "source": [
        "Map of Philadelphia Police Districts"
      ],
      "metadata": {
        "id": "5-2zE4crQBJR"
      }
    },
    {
      "cell_type": "markdown",
      "source": [
        "<img src='https://drive.google.com/uc?id=1m7f3ttFQxpYVGVLkHn8oe3cjAAidSe8W' width = \"550\" height = \"550\">"
      ],
      "metadata": {
        "id": "RNT_alQ8OCkI"
      }
    },
    {
      "cell_type": "markdown",
      "source": [
        "#Homicides by Hour"
      ],
      "metadata": {
        "id": "kRYkSHpFLGAc"
      }
    },
    {
      "cell_type": "code",
      "source": [
        "homicide_hour_counts = df.loc[df['text_general_code'] == 'Homicide - Criminal']['hour_'].value_counts().to_frame().sort_index()"
      ],
      "metadata": {
        "id": "npai8iyiLI7I"
      },
      "execution_count": 36,
      "outputs": []
    },
    {
      "cell_type": "code",
      "source": [
        "homicide_hour_counts_x = [str(x) for x in sorted(homicide_hour_counts.index.to_list())]"
      ],
      "metadata": {
        "id": "o8P5tOzyLJzY"
      },
      "execution_count": 37,
      "outputs": []
    },
    {
      "cell_type": "code",
      "source": [
        "fig, ax = plt.subplots(figsize=(16,12))\n",
        "plt.rc('font', size=16)          # controls default text sizes\n",
        "plt.rc('axes', labelsize=16)    # fontsize of the x and y labels\n",
        "plt.rc('xtick', labelsize=12)    # fontsize of the tick labels\n",
        "plt.rc('ytick', labelsize=16) \n",
        "\n",
        "\n",
        "p1 = ax.bar(x = homicide_hour_counts_x,\n",
        "        height = homicide_hour_counts['hour_'],\n",
        "        data=homicide_hour_counts)\n",
        "\n",
        "ax.set_ylabel('Number of Homicides')\n",
        "ax.set_xlabel('Hour of Day')\n",
        "ax.set_title('Number Of Homicides In Each Hour of Day')\n",
        "\n",
        "ax.bar_label(p1, label_type='edge')\n",
        "\n",
        "plt.show()\n"
      ],
      "metadata": {
        "colab": {
          "base_uri": "https://localhost:8080/",
          "height": 743
        },
        "id": "OQ7fRGUULJxJ",
        "outputId": "b1c25dc9-bc04-4f1e-e4cc-76d3afbdac9b"
      },
      "execution_count": 58,
      "outputs": [
        {
          "output_type": "display_data",
          "data": {
            "text/plain": [
              "<Figure size 1152x864 with 1 Axes>"
            ],
            "image/png": "[encoded data removed]"
          },
          "metadata": {
            "needs_background": "light"
          }
        }
      ]
    },
    {
      "cell_type": "code",
      "source": [],
      "metadata": {
        "id": "RjN12InIQJKn"
      },
      "execution_count": null,
      "outputs": []
    }
  ]
}